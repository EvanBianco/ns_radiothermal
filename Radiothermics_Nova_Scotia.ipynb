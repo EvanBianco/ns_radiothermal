{
 "cells": [
  {
   "cell_type": "markdown",
   "metadata": {},
   "source": [
    "## Heat flow estimation from aerial radiometric measurements.\n",
    "\n",
    "In this notebook we are concerned with the image processing of radiometric maps from Nova Scotia https://novascotia.ca/natr/meb/download/dp163.asp and the subsequent estimate of heat flow following the equations in Beamish and Busby (2016).\n",
    "\n",
    "### About the data\n",
    "\n",
    "This data set consists of 7 JPEG images of radiometric data for the province of Nova Scotia. They include images showing Potassium (K, %), equivalent Thorium (eTh, ppm), equivalent Uranium (eU, ppm), the ratio Thorium/Potassium (eTh/K, ppm/%), the ratio Uranium/Potassium (eU/K, ppm/%), the ratio Uranium/Thorium (eU/eTh) and the Total Count at a 50m resolution. The images were created by combining radiometrics data provided by the Geological Survey of Canada (GSC) from their surveys flown at 1 km line-spacing across the entire province, and 7 detailed surveys flown at 250 m line spacing by the GSC in the following areas: East Kemptville, Liscomb, Ship Harbor, Gibraltor Hill, Granite Lake, Big Indian Lake, and Tantallon Lake. The images were produced by contractor M. S. King using funds provided under the Natural Resources Canada and Nova Scotia Department of Natural Resources joint project 'Mapping, Mineral and Energy Resource Evaluation, Central Nova Scotia', part of Natural Resources Canada's Targeted Geoscience Initiative (TGI-2) 2003-2005.\n",
    "\n",
    "### Image processing\n",
    "\n",
    "Unfortunately there are two problems with the data as delivered. The first is the images have had a hillshading effect applied obscuring data values from a pure radiometric measurement. The second issue is the images don't have a colorscale, so it's impossible to convert the colours back into physical quantities without using some external heuristic or calibration. \n",
    "\n",
    "We deal with the first issue by converting the R,G,B channels in the image to H, S, V, and then dripping the V channel – which is where the hillshade effect lies. This is following the code from Matt Hall in a Gist called, Ripping data from pseudocolour images:\n",
    "\n",
    "https://gist.github.com/kwinkunks/485190adcf3239341d8bebac94de3a2b#file-rip-data-2-py\n",
    "\n",
    "(notebook saved without cell outputs because rendered outputs are too large)\n",
    "    "
   ]
  },
  {
   "cell_type": "code",
   "execution_count": null,
   "metadata": {},
   "outputs": [],
   "source": [
    "\"\"\"\n",
    "If the colourmap matches all or part of the colour wheel or hue circle,\n",
    "we can decompose the image to HSV and use H as a proxy for the data.\n",
    "\"\"\"\n",
    "from io import BytesIO\n",
    "\n",
    "import matplotlib.pyplot as plt\n",
    "import numpy as np\n",
    "from PIL import Image\n",
    "import requests\n",
    "from skimage.color import rgb2hsv\n",
    "import glob"
   ]
  },
  {
   "cell_type": "code",
   "execution_count": null,
   "metadata": {},
   "outputs": [],
   "source": [
    "def heat_equation(Cu, Cth, Ck, density=2700, c1=9.52, c2=2.56, c3=3.48):\n",
    "    \"\"\"\n",
    "    Heat production equation from Beamish and Busby (2016)\n",
    "    density is the density of the \n",
    "    \n",
    "    density: rock density in kg/m3\n",
    "    Cu: weight of uranium in ppm\n",
    "    Cth: weight of thorium in ppm\n",
    "    Ck: weight of potassium in %\n",
    "    \n",
    "    Returns: Radioactive heat production in W/m3\n",
    "    \"\"\"\n",
    "    return (10e-5)*density*(c1 * Cu + c2 * Cth + c3 * Ck)\n",
    "    "
   ]
  },
  {
   "cell_type": "code",
   "execution_count": null,
   "metadata": {},
   "outputs": [],
   "source": [
    "def heat_equation_no_density(Cu, Cth, Ck, c1=0.26, c2=0.07, c3=0.10):\n",
    "    \"\"\"\n",
    "    Heat production equation from Beamish and Busby (2016)\n",
    "    density is the density of the \n",
    "    \n",
    "    Cu: weight of uranium in ppm\n",
    "    Cth: weight of thorium in ppm\n",
    "    Ck: weight of potassium in %\n",
    "    \n",
    "    Returns: Radioactive heat production in W/m3\n",
    "    \"\"\"\n",
    "    return c1 * Cu + c2 * Cth + c3 * Ck"
   ]
  },
  {
   "cell_type": "code",
   "execution_count": null,
   "metadata": {},
   "outputs": [],
   "source": [
    "# Get the 7 radiometric maps and their names\n",
    "fnames = glob.glob('i163nsaa_NS_Radiometric_Images_50m/jpg/*.jpg')\n",
    "names = [fname.split('/')[-1].split('.')[0] for fname in fnames]"
   ]
  },
  {
   "cell_type": "code",
   "execution_count": null,
   "metadata": {},
   "outputs": [],
   "source": [
    "names"
   ]
  },
  {
   "cell_type": "code",
   "execution_count": null,
   "metadata": {},
   "outputs": [],
   "source": [
    "fnames"
   ]
  },
  {
   "cell_type": "code",
   "execution_count": null,
   "metadata": {},
   "outputs": [],
   "source": [
    "print(fname, name)\n",
    "img = Image.open(fnames[1])"
   ]
  },
  {
   "cell_type": "code",
   "execution_count": null,
   "metadata": {},
   "outputs": [],
   "source": [
    "# Read the image and transform to HSV and save fig.\n",
    "for fname, name in zip(fnames, names):\n",
    "    print(fname, name)\n",
    "    img = Image.open(fname)\n",
    "    img_size = img.size\n",
    "    rgb_im = np.asarray(img)[..., :3] / 255.\n",
    "    hsv_im = rgb2hsv(rgb_im)\n",
    "    hue = hsv_im[..., 0]\n",
    "    # val = hsv_im[..., 2]\n",
    "    # Make a new figure.\n",
    "    my_dpi = 96\n",
    "    plt.figure(figsize=(img_size[0]/my_dpi, img_size[1]/my_dpi), dpi=my_dpi)\n",
    "    plt.imshow(hue, cmap='Greys_r')\n",
    "    plt.axis('off')\n",
    "    plt.tight_layout()\n",
    "    plt.savefig(f'{name}_fixed.jpg')"
   ]
  },
  {
   "cell_type": "markdown",
   "metadata": {},
   "source": [
    "## Fixed images\n",
    "\n",
    "7 new maps with hillshading removed\n"
   ]
  },
  {
   "cell_type": "code",
   "execution_count": null,
   "metadata": {},
   "outputs": [],
   "source": [
    "fixed_images = glob.glob('*fixed.jpg')"
   ]
  },
  {
   "cell_type": "code",
   "execution_count": null,
   "metadata": {},
   "outputs": [],
   "source": [
    "fixed_images"
   ]
  },
  {
   "cell_type": "code",
   "execution_count": null,
   "metadata": {},
   "outputs": [],
   "source": [
    "imgs = [Image.open(fixed_image) for fixed_image in fixed_images]"
   ]
  },
  {
   "cell_type": "code",
   "execution_count": null,
   "metadata": {},
   "outputs": [],
   "source": [
    "imgs[1]"
   ]
  },
  {
   "cell_type": "markdown",
   "metadata": {},
   "source": [
    "# Composite map"
   ]
  },
  {
   "cell_type": "code",
   "execution_count": null,
   "metadata": {},
   "outputs": [],
   "source": [
    "for img in imgs:\n",
    "    print (img.size, img.filename)"
   ]
  },
  {
   "cell_type": "markdown",
   "metadata": {},
   "source": [
    "The images aren't the same size. Dang it. Fortunately the \"Potassium\", \"eThorium\" and \"eUranium\" are the same size."
   ]
  },
  {
   "cell_type": "code",
   "execution_count": null,
   "metadata": {},
   "outputs": [],
   "source": [
    "potassium = np.array(imgs[3])\n",
    "eThorium = np.array(imgs[4])\n",
    "eUranium = np.array(imgs[1])"
   ]
  },
  {
   "cell_type": "code",
   "execution_count": null,
   "metadata": {},
   "outputs": [],
   "source": [
    "potassium_gray = np.mean(potassium, axis=2)\n",
    "eThorium_gray = np.mean(eThorium, axis=2)\n",
    "eUranium_gray = np.mean(eUranium, axis=2)"
   ]
  },
  {
   "cell_type": "code",
   "execution_count": null,
   "metadata": {},
   "outputs": [],
   "source": [
    "print('Grayscale image shape:', potassium_gray.shape)\n",
    "print('Grayscale image shape:', eThorium_gray.shape)\n",
    "print('Grayscale image shape:', eUranium_gray.shape)"
   ]
  },
  {
   "cell_type": "code",
   "execution_count": null,
   "metadata": {},
   "outputs": [],
   "source": [
    "# Set the water to np.nan instead of 255\n",
    "potassium_gray[potassium_gray == np.amax(potassium_gray)] = np.nan\n",
    "eThorium_gray[eThorium_gray == np.amax(eThorium_gray)] = np.nan\n",
    "eUranium_gray[eUranium_gray == np.amax(eUranium_gray)] = np.nan"
   ]
  },
  {
   "cell_type": "code",
   "execution_count": null,
   "metadata": {},
   "outputs": [],
   "source": [
    "plt.figure(figsize=(10,10))\n",
    "plt.imshow(eUranium_gray[::10, ::10], cmap='Greys')\n",
    "plt.colorbar(shrink=0.5)"
   ]
  },
  {
   "cell_type": "markdown",
   "metadata": {},
   "source": [
    "# Corendering K (reds), Th (greens), U (blues)"
   ]
  },
  {
   "cell_type": "code",
   "execution_count": null,
   "metadata": {},
   "outputs": [],
   "source": [
    "c1, c2, c3 = 255, 255, 255\n",
    "U_Th_K_stack = np.stack((potassium_gray/c1, eThorium_gray/c2, eUranium_gray/c3), axis=-1)\n",
    "U_Th_K_stack.shape"
   ]
  },
  {
   "cell_type": "code",
   "execution_count": null,
   "metadata": {},
   "outputs": [],
   "source": [
    "step = 20  # change this for faster / slower rendering\n",
    "plt.figure(figsize=(20,20))\n",
    "plt.imshow(U_Th_K_stack[::step, ::step, :])\n",
    "plt.savefig('Radiometric_corendering_NS.png')"
   ]
  },
  {
   "cell_type": "code",
   "execution_count": null,
   "metadata": {},
   "outputs": [],
   "source": [
    "def normU(u):\n",
    "    \"\"\"\n",
    "    A function to scale Uranium map. We don't know what this function should be\n",
    "    \"\"\"\n",
    "    return u\n",
    "\n",
    "\n",
    "def normTh(th):\n",
    "    \"\"\"\n",
    "    A function to scale thorium.  We don't know what this function should be\n",
    "    \"\"\"\n",
    "    return th\n",
    "\n",
    "\n",
    "def normK(k):\n",
    "    \"\"\"\n",
    "    A function to scale potassium. We don't know what this function should be\n",
    "    \"\"\"\n",
    "    return k\n",
    "\n"
   ]
  },
  {
   "cell_type": "code",
   "execution_count": null,
   "metadata": {},
   "outputs": [],
   "source": [
    "heat_gen1 = heat_equation_no_density(eUranium_gray, eThorium_gray, potassium_gray)"
   ]
  },
  {
   "cell_type": "code",
   "execution_count": null,
   "metadata": {},
   "outputs": [],
   "source": [
    "heat_gen1[heat_gen1 == np.amax(heat_gen1)] = np.nan"
   ]
  },
  {
   "cell_type": "code",
   "execution_count": null,
   "metadata": {},
   "outputs": [],
   "source": [
    "plt.figure(figsize=(20,20))\n",
    "plt.imshow(heat_gen1[::step, ::step], cmap='plasma')\n",
    "plt.colorbar(shrink=0.5)"
   ]
  },
  {
   "cell_type": "code",
   "execution_count": null,
   "metadata": {},
   "outputs": [],
   "source": [
    "heat_gen2 = heat_equation(eUranium_gray, eThorium_gray, potassium_gray)"
   ]
  },
  {
   "cell_type": "code",
   "execution_count": null,
   "metadata": {},
   "outputs": [],
   "source": [
    "heat_gen2[heat_gen2 == np.amax(heat_gen2)] = np.nan"
   ]
  },
  {
   "cell_type": "code",
   "execution_count": null,
   "metadata": {},
   "outputs": [],
   "source": [
    "plt.figure(figsize=(20,20))\n",
    "plt.imshow(heat_gen2[::step, ::step], cmap='plasma')\n",
    "plt.colorbar(shrink=0.5)\n",
    "plt.savefig('Heat_flow_estimate_NS.png')"
   ]
  },
  {
   "cell_type": "markdown",
   "metadata": {},
   "source": [
    "The maps look similar, but are off by about an order of magnitude. Does that help in how they should be scaled?"
   ]
  }
 ],
 "metadata": {
  "kernelspec": {
   "display_name": "geocomp",
   "language": "python",
   "name": "geocomp"
  },
  "language_info": {
   "codemirror_mode": {
    "name": "ipython",
    "version": 3
   },
   "file_extension": ".py",
   "mimetype": "text/x-python",
   "name": "python",
   "nbconvert_exporter": "python",
   "pygments_lexer": "ipython3",
   "version": "3.6.7"
  }
 },
 "nbformat": 4,
 "nbformat_minor": 2
}
